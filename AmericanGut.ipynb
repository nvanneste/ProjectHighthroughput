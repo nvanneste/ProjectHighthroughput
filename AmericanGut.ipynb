{
 "cells": [
  {
   "cell_type": "code",
   "execution_count": 1,
   "metadata": {
    "collapsed": false
   },
   "outputs": [
    {
     "ename": "AttributeError",
     "evalue": "'str' object has no attribute 'append'",
     "output_type": "error",
     "traceback": [
      "\u001b[0;31m---------------------------------------------------------------------------\u001b[0m",
      "\u001b[0;31mAttributeError\u001b[0m                            Traceback (most recent call last)",
      "\u001b[0;32m<ipython-input-1-be26658753dc>\u001b[0m in \u001b[0;36m<module>\u001b[0;34m()\u001b[0m\n\u001b[1;32m     41\u001b[0m                     \u001b[0mans\u001b[0m \u001b[0;34m=\u001b[0m \u001b[0mlink\u001b[0m\u001b[0;34m[\u001b[0m\u001b[0mterms\u001b[0m\u001b[0;34m]\u001b[0m\u001b[0;34m\u001b[0m\u001b[0m\n\u001b[1;32m     42\u001b[0m                     \u001b[0;32mif\u001b[0m \u001b[0mans\u001b[0m \u001b[0;32min\u001b[0m \u001b[0mneg_answers\u001b[0m\u001b[0;34m:\u001b[0m\u001b[0;34m\u001b[0m\u001b[0m\n\u001b[0;32m---> 43\u001b[0;31m                         \u001b[0mprint_out\u001b[0m\u001b[0;34m.\u001b[0m\u001b[0mappend\u001b[0m\u001b[0;34m(\u001b[0m\u001b[0;34m\"0 ;\"\u001b[0m\u001b[0;34m)\u001b[0m\u001b[0;34m\u001b[0m\u001b[0m\n\u001b[0m\u001b[1;32m     44\u001b[0m                     \u001b[0;32melif\u001b[0m \u001b[0mans\u001b[0m \u001b[0;32min\u001b[0m \u001b[0mdnk_answers\u001b[0m\u001b[0;34m:\u001b[0m\u001b[0;34m\u001b[0m\u001b[0m\n\u001b[1;32m     45\u001b[0m                         \u001b[0mprint_out\u001b[0m\u001b[0;34m.\u001b[0m\u001b[0mappend\u001b[0m\u001b[0;34m(\u001b[0m\u001b[0;34m\"NA ;\"\u001b[0m\u001b[0;34m)\u001b[0m\u001b[0;34m\u001b[0m\u001b[0m\n",
      "\u001b[0;31mAttributeError\u001b[0m: 'str' object has no attribute 'append'"
     ]
    }
   ],
   "source": [
    "import json\n",
    "import urllib.request as ur\n",
    "from pprint import pprint\n",
    "from urllib.request import urlopen\n",
    "\n",
    "#alles wat ik wil opvragen + de mogelijke antwoorden\n",
    "list_terms = ['diabetes', 'alzheimers','autoimmune','chickenpox', 'age_years', 'weight_kg', 'height_cm' ]\n",
    "neg_answers = ['I do not have this condition', 'No']\n",
    "dnk_answers = ['Unknown', 'Unspecified']\n",
    "pos_answers = ['yes', 'Yes']\n",
    "\n",
    "url= \"https://www.openhumans.org/api/public-data/?source=american_gut\"\n",
    "site = ur.urlopen(url).read()\n",
    "data = json.loads(site.decode()) #decode de json want anaconda heeft problemen ermee om het gewoon te loaden\n",
    "\n",
    "#append want met w wordt dit constant overschreven\n",
    "outfile = open('AmericanGut.csv', mode = 'a')\n",
    "\n",
    "#header info opmaken username, url,... ter navigatie\n",
    "header = (\"username ; url ; basename ;\")\n",
    "\n",
    "#laten loopen zodat er een bepaalde header iedere keer terug komt en de info er rechtstreeks onder komt\n",
    "for terms in list_terms:\n",
    "    header += (terms + \";\")\n",
    "outfile.write(header + \"\\n\")\n",
    "    \n",
    "#als de next niet niets is dan gaat de loop eeuwig verder zo itereer je over heel de site\n",
    "while data['next'] != None:\n",
    "    for i in range(0,len(data[\"results\"]),1):\n",
    "        #zoekt naar metadata.json files en gaat deze dan de gegevens ophalen\n",
    "        if 'metadata.json' in data[\"results\"][i][\"basename\"]:\n",
    "            username = data[\"results\"][i][\"user\"][\"name\"]\n",
    "            downloadurl = data[\"results\"][i][\"download_url\"]\n",
    "            basename = data[\"results\"][i][\"basename\"]\n",
    "            print_out = (\"{}; {}; {};\".format(username, downloadurl, basename))\n",
    "            \n",
    "            #open de json file en zoek daarin de bepaalde ziekten en rapporteer ze\n",
    "            link_data = (ur.urlopen(downloadurl).read())\n",
    "            link = json.loads(link_data.decode())\n",
    "            for terms in list_terms:\n",
    "                if link: #in de downloadjson kijken naar de antwoorden van de vermelde ziekten en omvormen naar binair\n",
    "                    ans = link[terms]\n",
    "                    if ans in neg_answers: #antwoorden binair omzetten\n",
    "                        print_out +=(\"0 ;\")\n",
    "                    elif ans in dnk_answers:\n",
    "                        print_out += (\"NA ;\")\n",
    "                    elif ans in pos_answers:\n",
    "                        print_out += (\"1 ;\")\n",
    "                    elif link:\n",
    "                        print_out += (ans + \";\") \n",
    "                    #als het antwoord niet in de lijst staat gewoon antwoord geven zodat script kan aangepast worden\n",
    "                else:\n",
    "                    print_out += (\"Not Found ;\")\n",
    "            print_out += (\"\\n\")\n",
    "            outfile.write(print_out)\n",
    "            \n",
    "    #open de volgende url en laat deze draaien als er over de len(data) range is gepasseerd zodat de volgende link \n",
    "    #kan gestart worden\n",
    "    url = data['next']\n",
    "    site = ur.urlopen(url).read()\n",
    "    data = json.loads(site.decode())\n",
    "\n",
    "outfile.close()"
   ]
  },
  {
   "cell_type": "code",
   "execution_count": null,
   "metadata": {
    "collapsed": true
   },
   "outputs": [],
   "source": []
  }
 ],
 "metadata": {
  "anaconda-cloud": {},
  "kernelspec": {
   "display_name": "Python [default]",
   "language": "python",
   "name": "python3"
  },
  "language_info": {
   "codemirror_mode": {
    "name": "ipython",
    "version": 3
   },
   "file_extension": ".py",
   "mimetype": "text/x-python",
   "name": "python",
   "nbconvert_exporter": "python",
   "pygments_lexer": "ipython3",
   "version": "3.5.2"
  }
 },
 "nbformat": 4,
 "nbformat_minor": 1
}
